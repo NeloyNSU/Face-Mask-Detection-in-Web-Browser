{
 "cells": [
  {
   "cell_type": "markdown",
   "metadata": {},
   "source": [
    "# Install the dependencies"
   ]
  },
  {
   "cell_type": "code",
   "execution_count": 3,
   "metadata": {},
   "outputs": [
    {
     "name": "stdout",
     "output_type": "stream",
     "text": [
      "Requirement already satisfied: virtualenv in e:\\anaconda\\lib\\site-packages (20.0.27)\n",
      "Requirement already satisfied: filelock<4,>=3.0.0 in e:\\anaconda\\lib\\site-packages (from virtualenv) (3.0.12)\n",
      "Requirement already satisfied: appdirs<2,>=1.4.3 in e:\\anaconda\\lib\\site-packages (from virtualenv) (1.4.4)\n",
      "Requirement already satisfied: importlib-metadata<2,>=0.12; python_version < \"3.8\" in e:\\anaconda\\lib\\site-packages (from virtualenv) (1.7.0)\n",
      "Requirement already satisfied: six<2,>=1.9.0 in e:\\anaconda\\lib\\site-packages (from virtualenv) (1.15.0)\n",
      "Requirement already satisfied: distlib<1,>=0.3.1 in e:\\anaconda\\lib\\site-packages (from virtualenv) (0.3.1)\n",
      "Requirement already satisfied: zipp>=0.5 in e:\\anaconda\\lib\\site-packages (from importlib-metadata<2,>=0.12; python_version < \"3.8\"->virtualenv) (3.1.0)\n",
      "Note: you may need to restart the kernel to use updated packages.\n"
     ]
    }
   ],
   "source": [
    "pip install virtualenv"
   ]
  },
  {
   "cell_type": "code",
   "execution_count": 6,
   "metadata": {},
   "outputs": [
    {
     "name": "stdout",
     "output_type": "stream",
     "text": [
      "Requirement already satisfied: imutils==0.5.3 in e:\\anaconda\\lib\\site-packages (from -r https://raw.githubusercontent.com/NeloyNSU/Face-Mask-Detection-in-Web-Browser/master/requirements.txt (line 1)) (0.5.3)\n",
      "Requirement already satisfied: keras==2.4.2 in e:\\anaconda\\lib\\site-packages (from -r https://raw.githubusercontent.com/NeloyNSU/Face-Mask-Detection-in-Web-Browser/master/requirements.txt (line 2)) (2.4.2)\n",
      "Requirement already satisfied: opencv-python==4.2.0.* in e:\\anaconda\\lib\\site-packages (from -r https://raw.githubusercontent.com/NeloyNSU/Face-Mask-Detection-in-Web-Browser/master/requirements.txt (line 3)) (4.2.0.34)\n",
      "Requirement already satisfied: matplotlib==3.2.2 in e:\\anaconda\\lib\\site-packages (from -r https://raw.githubusercontent.com/NeloyNSU/Face-Mask-Detection-in-Web-Browser/master/requirements.txt (line 4)) (3.2.2)\n",
      "Requirement already satisfied: numpy==1.18.5 in e:\\anaconda\\lib\\site-packages (from -r https://raw.githubusercontent.com/NeloyNSU/Face-Mask-Detection-in-Web-Browser/master/requirements.txt (line 5)) (1.18.5)\n",
      "Requirement already satisfied: pillow==7.1.2 in e:\\anaconda\\lib\\site-packages (from -r https://raw.githubusercontent.com/NeloyNSU/Face-Mask-Detection-in-Web-Browser/master/requirements.txt (line 6)) (7.1.2)\n",
      "Requirement already satisfied: prompt-toolkit==3.0.5 in e:\\anaconda\\lib\\site-packages (from -r https://raw.githubusercontent.com/NeloyNSU/Face-Mask-Detection-in-Web-Browser/master/requirements.txt (line 7)) (3.0.5)\n",
      "Requirement already satisfied: scikit-learn==0.23.1 in e:\\anaconda\\lib\\site-packages (from -r https://raw.githubusercontent.com/NeloyNSU/Face-Mask-Detection-in-Web-Browser/master/requirements.txt (line 8)) (0.23.1)\n",
      "Requirement already satisfied: tensorflow==2.2.0 in e:\\anaconda\\lib\\site-packages (from -r https://raw.githubusercontent.com/NeloyNSU/Face-Mask-Detection-in-Web-Browser/master/requirements.txt (line 9)) (2.2.0)\n",
      "Requirement already satisfied: tensorflowjs==2.0.1 in e:\\anaconda\\lib\\site-packages (from -r https://raw.githubusercontent.com/NeloyNSU/Face-Mask-Detection-in-Web-Browser/master/requirements.txt (line 10)) (2.0.1)\n",
      "Requirement already satisfied: h5py in e:\\anaconda\\lib\\site-packages (from keras==2.4.2->-r https://raw.githubusercontent.com/NeloyNSU/Face-Mask-Detection-in-Web-Browser/master/requirements.txt (line 2)) (2.10.0)\n",
      "Requirement already satisfied: pyyaml in e:\\anaconda\\lib\\site-packages (from keras==2.4.2->-r https://raw.githubusercontent.com/NeloyNSU/Face-Mask-Detection-in-Web-Browser/master/requirements.txt (line 2)) (5.3.1)\n",
      "Requirement already satisfied: scipy>=0.14 in e:\\anaconda\\lib\\site-packages (from keras==2.4.2->-r https://raw.githubusercontent.com/NeloyNSU/Face-Mask-Detection-in-Web-Browser/master/requirements.txt (line 2)) (1.5.0)\n",
      "Requirement already satisfied: cycler>=0.10 in e:\\anaconda\\lib\\site-packages (from matplotlib==3.2.2->-r https://raw.githubusercontent.com/NeloyNSU/Face-Mask-Detection-in-Web-Browser/master/requirements.txt (line 4)) (0.10.0)\n",
      "Requirement already satisfied: python-dateutil>=2.1 in e:\\anaconda\\lib\\site-packages (from matplotlib==3.2.2->-r https://raw.githubusercontent.com/NeloyNSU/Face-Mask-Detection-in-Web-Browser/master/requirements.txt (line 4)) (2.8.1)\n",
      "Requirement already satisfied: pyparsing!=2.0.4,!=2.1.2,!=2.1.6,>=2.0.1 in e:\\anaconda\\lib\\site-packages (from matplotlib==3.2.2->-r https://raw.githubusercontent.com/NeloyNSU/Face-Mask-Detection-in-Web-Browser/master/requirements.txt (line 4)) (2.4.7)\n",
      "Requirement already satisfied: kiwisolver>=1.0.1 in e:\\anaconda\\lib\\site-packages (from matplotlib==3.2.2->-r https://raw.githubusercontent.com/NeloyNSU/Face-Mask-Detection-in-Web-Browser/master/requirements.txt (line 4)) (1.2.0)\n",
      "Requirement already satisfied: wcwidth in e:\\anaconda\\lib\\site-packages (from prompt-toolkit==3.0.5->-r https://raw.githubusercontent.com/NeloyNSU/Face-Mask-Detection-in-Web-Browser/master/requirements.txt (line 7)) (0.2.5)\n",
      "Requirement already satisfied: threadpoolctl>=2.0.0 in e:\\anaconda\\lib\\site-packages (from scikit-learn==0.23.1->-r https://raw.githubusercontent.com/NeloyNSU/Face-Mask-Detection-in-Web-Browser/master/requirements.txt (line 8)) (2.1.0)\n",
      "Requirement already satisfied: joblib>=0.11 in e:\\anaconda\\lib\\site-packages (from scikit-learn==0.23.1->-r https://raw.githubusercontent.com/NeloyNSU/Face-Mask-Detection-in-Web-Browser/master/requirements.txt (line 8)) (0.16.0)\n",
      "Requirement already satisfied: tensorflow-estimator<2.3.0,>=2.2.0 in e:\\anaconda\\lib\\site-packages (from tensorflow==2.2.0->-r https://raw.githubusercontent.com/NeloyNSU/Face-Mask-Detection-in-Web-Browser/master/requirements.txt (line 9)) (2.2.0)\n",
      "Requirement already satisfied: termcolor>=1.1.0 in e:\\anaconda\\lib\\site-packages (from tensorflow==2.2.0->-r https://raw.githubusercontent.com/NeloyNSU/Face-Mask-Detection-in-Web-Browser/master/requirements.txt (line 9)) (1.1.0)\n",
      "Requirement already satisfied: six>=1.12.0 in e:\\anaconda\\lib\\site-packages (from tensorflow==2.2.0->-r https://raw.githubusercontent.com/NeloyNSU/Face-Mask-Detection-in-Web-Browser/master/requirements.txt (line 9)) (1.15.0)\n",
      "Requirement already satisfied: grpcio>=1.8.6 in e:\\anaconda\\lib\\site-packages (from tensorflow==2.2.0->-r https://raw.githubusercontent.com/NeloyNSU/Face-Mask-Detection-in-Web-Browser/master/requirements.txt (line 9)) (1.28.1)\n",
      "Requirement already satisfied: keras-preprocessing>=1.1.0 in e:\\anaconda\\lib\\site-packages (from tensorflow==2.2.0->-r https://raw.githubusercontent.com/NeloyNSU/Face-Mask-Detection-in-Web-Browser/master/requirements.txt (line 9)) (1.1.0)\n",
      "Requirement already satisfied: wrapt>=1.11.1 in e:\\anaconda\\lib\\site-packages (from tensorflow==2.2.0->-r https://raw.githubusercontent.com/NeloyNSU/Face-Mask-Detection-in-Web-Browser/master/requirements.txt (line 9)) (1.12.1)\n",
      "Requirement already satisfied: absl-py>=0.7.0 in e:\\anaconda\\lib\\site-packages (from tensorflow==2.2.0->-r https://raw.githubusercontent.com/NeloyNSU/Face-Mask-Detection-in-Web-Browser/master/requirements.txt (line 9)) (0.9.0)Note: you may need to restart the kernel to use updated packages.\n",
      "Requirement already satisfied: astunparse==1.6.3 in e:\\anaconda\\lib\\site-packages (from tensorflow==2.2.0->-r https://raw.githubusercontent.com/NeloyNSU/Face-Mask-Detection-in-Web-Browser/master/requirements.txt (line 9)) (1.6.3)\n",
      "Requirement already satisfied: google-pasta>=0.1.8 in e:\\anaconda\\lib\\site-packages (from tensorflow==2.2.0->-r https://raw.githubusercontent.com/NeloyNSU/Face-Mask-Detection-in-Web-Browser/master/requirements.txt (line 9)) (0.2.0)\n",
      "Requirement already satisfied: opt-einsum>=2.3.2 in e:\\anaconda\\lib\\site-packages (from tensorflow==2.2.0->-r https://raw.githubusercontent.com/NeloyNSU/Face-Mask-Detection-in-Web-Browser/master/requirements.txt (line 9)) (3.1.0)\n",
      "Requirement already satisfied: tensorboard<2.3.0,>=2.2.0 in e:\\anaconda\\lib\\site-packages (from tensorflow==2.2.0->-r https://raw.githubusercontent.com/NeloyNSU/Face-Mask-Detection-in-Web-Browser/master/requirements.txt (line 9)) (2.2.1)\n",
      "Requirement already satisfied: gast==0.3.3 in e:\\anaconda\\lib\\site-packages (from tensorflow==2.2.0->-r https://raw.githubusercontent.com/NeloyNSU/Face-Mask-Detection-in-Web-Browser/master/requirements.txt (line 9)) (0.3.3)\n",
      "Requirement already satisfied: protobuf>=3.8.0 in e:\\anaconda\\lib\\site-packages (from tensorflow==2.2.0->-r https://raw.githubusercontent.com/NeloyNSU/Face-Mask-Detection-in-Web-Browser/master/requirements.txt (line 9)) (3.11.4)\n",
      "Requirement already satisfied: wheel>=0.26; python_version >= \"3\" in e:\\anaconda\\lib\\site-packages (from tensorflow==2.2.0->-r https://raw.githubusercontent.com/NeloyNSU/Face-Mask-Detection-in-Web-Browser/master/requirements.txt (line 9)) (0.34.2)\n",
      "Requirement already satisfied: tensorflow-cpu>=2.1.0<3 in e:\\anaconda\\lib\\site-packages (from tensorflowjs==2.0.1->-r https://raw.githubusercontent.com/NeloyNSU/Face-Mask-Detection-in-Web-Browser/master/requirements.txt (line 10)) (2.3.0rc2)\n",
      "Requirement already satisfied: tensorflow-hub==0.7.0 in e:\\anaconda\\lib\\site-packages (from tensorflowjs==2.0.1->-r https://raw.githubusercontent.com/NeloyNSU/Face-Mask-Detection-in-Web-Browser/master/requirements.txt (line 10)) (0.7.0)\n",
      "Requirement already satisfied: PyInquirer==1.0.3 in e:\\anaconda\\lib\\site-packages (from tensorflowjs==2.0.1->-r https://raw.githubusercontent.com/NeloyNSU/Face-Mask-Detection-in-Web-Browser/master/requirements.txt (line 10)) (1.0.3)\n",
      "Requirement already satisfied: tensorboard-plugin-wit>=1.6.0 in e:\\anaconda\\lib\\site-packages (from tensorboard<2.3.0,>=2.2.0->tensorflow==2.2.0->-r https://raw.githubusercontent.com/NeloyNSU/Face-Mask-Detection-in-Web-Browser/master/requirements.txt (line 9)) (1.6.0)\n",
      "Requirement already satisfied: google-auth<2,>=1.6.3 in e:\\anaconda\\lib\\site-packages (from tensorboard<2.3.0,>=2.2.0->tensorflow==2.2.0->-r https://raw.githubusercontent.com/NeloyNSU/Face-Mask-Detection-in-Web-Browser/master/requirements.txt (line 9)) (1.18.0)\n",
      "Requirement already satisfied: setuptools>=41.0.0 in e:\\anaconda\\lib\\site-packages (from tensorboard<2.3.0,>=2.2.0->tensorflow==2.2.0->-r https://raw.githubusercontent.com/NeloyNSU/Face-Mask-Detection-in-Web-Browser/master/requirements.txt (line 9)) (49.2.0.post20200714)\n",
      "Requirement already satisfied: google-auth-oauthlib<0.5,>=0.4.1 in e:\\anaconda\\lib\\site-packages (from tensorboard<2.3.0,>=2.2.0->tensorflow==2.2.0->-r https://raw.githubusercontent.com/NeloyNSU/Face-Mask-Detection-in-Web-Browser/master/requirements.txt (line 9)) (0.4.1)\n",
      "Requirement already satisfied: werkzeug>=0.11.15 in e:\\anaconda\\lib\\site-packages (from tensorboard<2.3.0,>=2.2.0->tensorflow==2.2.0->-r https://raw.githubusercontent.com/NeloyNSU/Face-Mask-Detection-in-Web-Browser/master/requirements.txt (line 9)) (0.16.1)\n",
      "Requirement already satisfied: markdown>=2.6.8 in e:\\anaconda\\lib\\site-packages (from tensorboard<2.3.0,>=2.2.0->tensorflow==2.2.0->-r https://raw.githubusercontent.com/NeloyNSU/Face-Mask-Detection-in-Web-Browser/master/requirements.txt (line 9)) (3.2.1)\n",
      "Requirement already satisfied: requests<3,>=2.21.0 in e:\\anaconda\\lib\\site-packages (from tensorboard<2.3.0,>=2.2.0->tensorflow==2.2.0->-r https://raw.githubusercontent.com/NeloyNSU/Face-Mask-Detection-in-Web-Browser/master/requirements.txt (line 9)) (2.24.0)\n",
      "Requirement already satisfied: regex>=2016.11.21 in e:\\anaconda\\lib\\site-packages (from PyInquirer==1.0.3->tensorflowjs==2.0.1->-r https://raw.githubusercontent.com/NeloyNSU/Face-Mask-Detection-in-Web-Browser/master/requirements.txt (line 10)) (2020.6.8)\n",
      "Requirement already satisfied: Pygments>=2.2.0 in e:\\anaconda\\lib\\site-packages (from PyInquirer==1.0.3->tensorflowjs==2.0.1->-r https://raw.githubusercontent.com/NeloyNSU/Face-Mask-Detection-in-Web-Browser/master/requirements.txt (line 10)) (2.6.1)\n",
      "Requirement already satisfied: pyasn1-modules>=0.2.1 in e:\\anaconda\\lib\\site-packages (from google-auth<2,>=1.6.3->tensorboard<2.3.0,>=2.2.0->tensorflow==2.2.0->-r https://raw.githubusercontent.com/NeloyNSU/Face-Mask-Detection-in-Web-Browser/master/requirements.txt (line 9)) (0.2.7)\n",
      "Requirement already satisfied: rsa<5,>=3.1.4; python_version >= \"3\" in e:\\anaconda\\lib\\site-packages (from google-auth<2,>=1.6.3->tensorboard<2.3.0,>=2.2.0->tensorflow==2.2.0->-r https://raw.githubusercontent.com/NeloyNSU/Face-Mask-Detection-in-Web-Browser/master/requirements.txt (line 9)) (4.0)\n",
      "\n",
      "Requirement already satisfied: cachetools<5.0,>=2.0.0 in e:\\anaconda\\lib\\site-packages (from google-auth<2,>=1.6.3->tensorboard<2.3.0,>=2.2.0->tensorflow==2.2.0->-r https://raw.githubusercontent.com/NeloyNSU/Face-Mask-Detection-in-Web-Browser/master/requirements.txt (line 9)) (4.1.0)\n",
      "Requirement already satisfied: requests-oauthlib>=0.7.0 in e:\\anaconda\\lib\\site-packages (from google-auth-oauthlib<0.5,>=0.4.1->tensorboard<2.3.0,>=2.2.0->tensorflow==2.2.0->-r https://raw.githubusercontent.com/NeloyNSU/Face-Mask-Detection-in-Web-Browser/master/requirements.txt (line 9)) (1.3.0)\n",
      "Requirement already satisfied: certifi>=2017.4.17 in e:\\anaconda\\lib\\site-packages (from requests<3,>=2.21.0->tensorboard<2.3.0,>=2.2.0->tensorflow==2.2.0->-r https://raw.githubusercontent.com/NeloyNSU/Face-Mask-Detection-in-Web-Browser/master/requirements.txt (line 9)) (2020.6.20)\n",
      "Requirement already satisfied: idna<3,>=2.5 in e:\\anaconda\\lib\\site-packages (from requests<3,>=2.21.0->tensorboard<2.3.0,>=2.2.0->tensorflow==2.2.0->-r https://raw.githubusercontent.com/NeloyNSU/Face-Mask-Detection-in-Web-Browser/master/requirements.txt (line 9)) (2.10)\n",
      "Requirement already satisfied: urllib3!=1.25.0,!=1.25.1,<1.26,>=1.21.1 in e:\\anaconda\\lib\\site-packages (from requests<3,>=2.21.0->tensorboard<2.3.0,>=2.2.0->tensorflow==2.2.0->-r https://raw.githubusercontent.com/NeloyNSU/Face-Mask-Detection-in-Web-Browser/master/requirements.txt (line 9)) (1.25.9)\n",
      "Requirement already satisfied: chardet<4,>=3.0.2 in e:\\anaconda\\lib\\site-packages (from requests<3,>=2.21.0->tensorboard<2.3.0,>=2.2.0->tensorflow==2.2.0->-r https://raw.githubusercontent.com/NeloyNSU/Face-Mask-Detection-in-Web-Browser/master/requirements.txt (line 9)) (3.0.4)\n",
      "Requirement already satisfied: pyasn1<0.5.0,>=0.4.6 in e:\\anaconda\\lib\\site-packages (from pyasn1-modules>=0.2.1->google-auth<2,>=1.6.3->tensorboard<2.3.0,>=2.2.0->tensorflow==2.2.0->-r https://raw.githubusercontent.com/NeloyNSU/Face-Mask-Detection-in-Web-Browser/master/requirements.txt (line 9)) (0.4.8)\n",
      "Requirement already satisfied: oauthlib>=3.0.0 in e:\\anaconda\\lib\\site-packages (from requests-oauthlib>=0.7.0->google-auth-oauthlib<0.5,>=0.4.1->tensorboard<2.3.0,>=2.2.0->tensorflow==2.2.0->-r https://raw.githubusercontent.com/NeloyNSU/Face-Mask-Detection-in-Web-Browser/master/requirements.txt (line 9)) (3.1.0)\n"
     ]
    }
   ],
   "source": [
    "pip install -r https://raw.githubusercontent.com/NeloyNSU/Face-Mask-Detection-in-Web-Browser/master/requirements.txt"
   ]
  },
  {
   "cell_type": "markdown",
   "metadata": {},
   "source": [
    "# Train the face mask detector model"
   ]
  },
  {
   "cell_type": "markdown",
   "metadata": {},
   "source": [
    "## Preprocess the dataset"
   ]
  },
  {
   "cell_type": "code",
   "execution_count": 7,
   "metadata": {},
   "outputs": [
    {
     "name": "stderr",
     "output_type": "stream",
     "text": [
      "E:\\Anaconda\\lib\\site-packages\\PIL\\Image.py:960: UserWarning: Palette images with Transparency expressed in bytes should be converted to RGBA images\n",
      "  \"Palette images with Transparency expressed in bytes should be \"\n"
     ]
    }
   ],
   "source": [
    "# Get the images data\n",
    "\n",
    "from tensorflow.keras.applications.mobilenet_v2 import preprocess_input\n",
    "from tensorflow.keras.preprocessing.image import img_to_array\n",
    "from tensorflow.keras.preprocessing.image import load_img\n",
    "\n",
    "from imutils import paths\n",
    "import os\n",
    "\n",
    "data = []\n",
    "labels = []\n",
    "\n",
    "DATA_PATH = \"../data\"\n",
    "image_path_list = list(paths.list_images(DATA_PATH))\n",
    "\n",
    "for image_path in image_path_list:\n",
    "    # extract the class label from the filename\n",
    "    label = image_path.split(os.path.sep)[-2]\n",
    "\n",
    "    # load the input image (224x224) and preprocess it\n",
    "    image = load_img(image_path, target_size=(224, 224))\n",
    "    image = img_to_array(image)\n",
    "    image = preprocess_input(image)\n",
    "    \n",
    "    # update the data and labels lists, respectively\n",
    "    data.append(image)\n",
    "    labels.append(label)"
   ]
  },
  {
   "cell_type": "code",
   "execution_count": 8,
   "metadata": {},
   "outputs": [],
   "source": [
    "# Convert the images and labels to NumPy array\n",
    "\n",
    "import numpy as np\n",
    "\n",
    "data = np.array(data, dtype=\"float32\")\n",
    "labels = np.array(labels)"
   ]
  },
  {
   "cell_type": "code",
   "execution_count": 9,
   "metadata": {},
   "outputs": [],
   "source": [
    "# Perform one-hot encoding on the labels\n",
    "\n",
    "from sklearn.preprocessing import LabelBinarizer\n",
    "from tensorflow.keras.utils import to_categorical\n",
    "\n",
    "lb = LabelBinarizer()\n",
    "labels = lb.fit_transform(labels)\n",
    "labels = to_categorical(labels)"
   ]
  },
  {
   "cell_type": "code",
   "execution_count": 10,
   "metadata": {},
   "outputs": [],
   "source": [
    "# Partition the data into training and testing\n",
    "\n",
    "from sklearn.model_selection import train_test_split\n",
    "\n",
    "TEST_SIZE = 0.25\n",
    "(trainX, testX, trainY, testY) = train_test_split(data, labels, \n",
    "                                                  test_size=TEST_SIZE, stratify=labels, random_state=42)"
   ]
  },
  {
   "cell_type": "markdown",
   "metadata": {},
   "source": [
    "## Build and train the model"
   ]
  },
  {
   "cell_type": "code",
   "execution_count": 11,
   "metadata": {},
   "outputs": [],
   "source": [
    "# Construct the training image generator for data augmentation\n",
    "\n",
    "from tensorflow.keras.preprocessing.image import ImageDataGenerator\n",
    "\n",
    "aug = ImageDataGenerator(\n",
    "    rotation_range=20,\n",
    "    zoom_range=0.15,\n",
    "    width_shift_range=0.2,\n",
    "    height_shift_range=0.2,\n",
    "    shear_range=0.15,\n",
    "    horizontal_flip=True,\n",
    "    fill_mode=\"nearest\")"
   ]
  },
  {
   "cell_type": "code",
   "execution_count": 12,
   "metadata": {},
   "outputs": [
    {
     "name": "stdout",
     "output_type": "stream",
     "text": [
      "WARNING:tensorflow:`input_shape` is undefined or non-square, or `rows` is not in [96, 128, 160, 192, 224]. Weights for input shape (224, 224) will be loaded as the default.\n",
      "Downloading data from https://storage.googleapis.com/tensorflow/keras-applications/mobilenet_v2/mobilenet_v2_weights_tf_dim_ordering_tf_kernels_1.0_224_no_top.h5\n",
      "9412608/9406464 [==============================] - 6s 1us/step\n"
     ]
    }
   ],
   "source": [
    "# Load the MobileNetV2 network, ensuring the head FC layer sets are left off\n",
    "\n",
    "from tensorflow.keras.applications import MobileNetV2\n",
    "from tensorflow.keras.layers import Input\n",
    "\n",
    "baseModel = MobileNetV2(\n",
    "    weights=\"imagenet\",\n",
    "    include_top=False,\n",
    "    input_tensor=Input(shape=(224, 224, 3)))"
   ]
  },
  {
   "cell_type": "code",
   "execution_count": 13,
   "metadata": {},
   "outputs": [],
   "source": [
    "# Construct the head of the model that will be placed on top of the base model\n",
    "\n",
    "from tensorflow.keras.layers import AveragePooling2D\n",
    "from tensorflow.keras.layers import Dense\n",
    "from tensorflow.keras.layers import Dropout\n",
    "from tensorflow.keras.layers import Flatten\n",
    "\n",
    "headModel = baseModel.output\n",
    "headModel = AveragePooling2D(pool_size=(7, 7))(headModel)\n",
    "headModel = Flatten(name=\"flatten\")(headModel)\n",
    "headModel = Dense(128, activation=\"relu\")(headModel)\n",
    "headModel = Dropout(0.5)(headModel)\n",
    "headModel = Dense(2, activation=\"softmax\")(headModel)"
   ]
  },
  {
   "cell_type": "code",
   "execution_count": 14,
   "metadata": {},
   "outputs": [],
   "source": [
    "# Place the head FC model on top of the base model (this will become the actual model we will train)\n",
    "\n",
    "from tensorflow.keras.models import Model\n",
    "\n",
    "model = Model(inputs=baseModel.input, outputs=headModel)"
   ]
  },
  {
   "cell_type": "code",
   "execution_count": 15,
   "metadata": {},
   "outputs": [],
   "source": [
    "# Loop over all layers in the base model and freeze them so they will *not* be updated during the first training process\n",
    "\n",
    "for layer in baseModel.layers:\n",
    "    layer.trainable = False"
   ]
  },
  {
   "cell_type": "code",
   "execution_count": 16,
   "metadata": {},
   "outputs": [],
   "source": [
    "# Initialize the initial learning rate, number of epochs to train for, and batch size\n",
    "\n",
    "INIT_LR = 1e-4\n",
    "EPOCHS = 20\n",
    "BATCH_SIZE = 32"
   ]
  },
  {
   "cell_type": "code",
   "execution_count": 17,
   "metadata": {},
   "outputs": [],
   "source": [
    "# Compile the model\n",
    "\n",
    "from tensorflow.keras.optimizers import Adam\n",
    "\n",
    "opt = Adam(lr=INIT_LR, decay=INIT_LR / EPOCHS)\n",
    "model.compile(loss=\"binary_crossentropy\", optimizer=opt, metrics=[\"accuracy\"])"
   ]
  },
  {
   "cell_type": "code",
   "execution_count": 18,
   "metadata": {},
   "outputs": [
    {
     "name": "stdout",
     "output_type": "stream",
     "text": [
      "Epoch 1/20\n",
      "89/89 [==============================] - 161s 2s/step - loss: 0.3101 - accuracy: 0.8751 - val_loss: 0.1103 - val_accuracy: 0.9802\n",
      "Epoch 2/20\n",
      "89/89 [==============================] - 133s 1s/step - loss: 0.1188 - accuracy: 0.9602 - val_loss: 0.0611 - val_accuracy: 0.9937\n",
      "Epoch 3/20\n",
      "89/89 [==============================] - 133s 1s/step - loss: 0.0847 - accuracy: 0.9736 - val_loss: 0.0483 - val_accuracy: 0.9927\n",
      "Epoch 4/20\n",
      "89/89 [==============================] - 198s 2s/step - loss: 0.0566 - accuracy: 0.9831 - val_loss: 0.0398 - val_accuracy: 0.9937\n",
      "Epoch 5/20\n",
      "89/89 [==============================] - 154s 2s/step - loss: 0.0532 - accuracy: 0.9799 - val_loss: 0.0363 - val_accuracy: 0.9958\n",
      "Epoch 6/20\n",
      "89/89 [==============================] - 173s 2s/step - loss: 0.0441 - accuracy: 0.9845 - val_loss: 0.0328 - val_accuracy: 0.9948\n",
      "Epoch 7/20\n",
      "89/89 [==============================] - 138s 2s/step - loss: 0.0461 - accuracy: 0.9845 - val_loss: 0.0322 - val_accuracy: 0.9958\n",
      "Epoch 8/20\n",
      "89/89 [==============================] - 136s 2s/step - loss: 0.0356 - accuracy: 0.9884 - val_loss: 0.0313 - val_accuracy: 0.9937\n",
      "Epoch 9/20\n",
      "89/89 [==============================] - 133s 1s/step - loss: 0.0368 - accuracy: 0.9887 - val_loss: 0.0289 - val_accuracy: 0.9948\n",
      "Epoch 10/20\n",
      "89/89 [==============================] - 132s 1s/step - loss: 0.0398 - accuracy: 0.9856 - val_loss: 0.0270 - val_accuracy: 0.9958\n",
      "Epoch 11/20\n",
      "89/89 [==============================] - 132s 1s/step - loss: 0.0334 - accuracy: 0.9887 - val_loss: 0.0269 - val_accuracy: 0.9958\n",
      "Epoch 12/20\n",
      "89/89 [==============================] - 133s 1s/step - loss: 0.0357 - accuracy: 0.9880 - val_loss: 0.0285 - val_accuracy: 0.9927\n",
      "Epoch 13/20\n",
      "89/89 [==============================] - 131s 1s/step - loss: 0.0333 - accuracy: 0.9905 - val_loss: 0.0253 - val_accuracy: 0.9948\n",
      "Epoch 14/20\n",
      "89/89 [==============================] - 175s 2s/step - loss: 0.0247 - accuracy: 0.9919 - val_loss: 0.0277 - val_accuracy: 0.9927\n",
      "Epoch 15/20\n",
      "89/89 [==============================] - 204s 2s/step - loss: 0.0270 - accuracy: 0.9912 - val_loss: 0.0241 - val_accuracy: 0.9937\n",
      "Epoch 16/20\n",
      "89/89 [==============================] - 158s 2s/step - loss: 0.0269 - accuracy: 0.9898 - val_loss: 0.0229 - val_accuracy: 0.9958\n",
      "Epoch 17/20\n",
      "89/89 [==============================] - 146s 2s/step - loss: 0.0256 - accuracy: 0.9912 - val_loss: 0.0232 - val_accuracy: 0.9958\n",
      "Epoch 18/20\n",
      "89/89 [==============================] - 128s 1s/step - loss: 0.0298 - accuracy: 0.9905 - val_loss: 0.0325 - val_accuracy: 0.9906\n",
      "Epoch 19/20\n",
      "89/89 [==============================] - 118s 1s/step - loss: 0.0226 - accuracy: 0.9923 - val_loss: 0.0222 - val_accuracy: 0.9958\n",
      "Epoch 20/20\n",
      "89/89 [==============================] - 122s 1s/step - loss: 0.0242 - accuracy: 0.9930 - val_loss: 0.0240 - val_accuracy: 0.9937\n"
     ]
    }
   ],
   "source": [
    "# Train the head of the network\n",
    "\n",
    "H = model.fit(\n",
    "    aug.flow(trainX, trainY, batch_size=BATCH_SIZE),\n",
    "    steps_per_epoch=len(trainX) // BATCH_SIZE,\n",
    "    validation_data=(testX, testY),\n",
    "    validation_steps=len(testX) // BATCH_SIZE,\n",
    "    epochs=EPOCHS)"
   ]
  },
  {
   "cell_type": "markdown",
   "metadata": {},
   "source": [
    "## Evaluate the model"
   ]
  },
  {
   "cell_type": "code",
   "execution_count": 19,
   "metadata": {},
   "outputs": [],
   "source": [
    "# Make predictions on the testing dataset\n",
    "predIdxs = model.predict(testX, batch_size=BATCH_SIZE)\n",
    "\n",
    "# For each image in the testing set we need to find the index of the label with corresponding largest predicted probability\n",
    "predIdxs = np.argmax(predIdxs, axis=1)"
   ]
  },
  {
   "cell_type": "code",
   "execution_count": 20,
   "metadata": {},
   "outputs": [
    {
     "name": "stdout",
     "output_type": "stream",
     "text": [
      "              precision    recall  f1-score   support\n",
      "\n",
      "   with_mask       0.99      1.00      0.99       479\n",
      "without_mask       1.00      0.99      0.99       480\n",
      "\n",
      "    accuracy                           0.99       959\n",
      "   macro avg       0.99      0.99      0.99       959\n",
      "weighted avg       0.99      0.99      0.99       959\n",
      "\n"
     ]
    }
   ],
   "source": [
    "# Show a nicely formatted classification report\n",
    "\n",
    "from sklearn.metrics import classification_report\n",
    "\n",
    "print(classification_report(testY.argmax(axis=1), predIdxs, target_names=lb.classes_))"
   ]
  },
  {
   "cell_type": "code",
   "execution_count": 21,
   "metadata": {},
   "outputs": [
    {
     "data": {
      "text/plain": [
       "<matplotlib.legend.Legend at 0x270b4aafcc8>"
      ]
     },
     "execution_count": 21,
     "metadata": {},
     "output_type": "execute_result"
    },
    {
     "data": {
      "image/png": "[encoded data removed]",
      "text/plain": [
       "<Figure size 432x288 with 1 Axes>"
      ]
     },
     "metadata": {},
     "output_type": "display_data"
    }
   ],
   "source": [
    "# plot the training loss and accuracy\n",
    "\n",
    "import matplotlib.pyplot as plt\n",
    "\n",
    "plt.style.use(\"ggplot\")\n",
    "plt.figure()\n",
    "\n",
    "plt.plot(np.arange(0, EPOCHS), H.history[\"loss\"], label=\"train_loss\")\n",
    "plt.plot(np.arange(0, EPOCHS), H.history[\"val_loss\"], label=\"val_loss\")\n",
    "plt.plot(np.arange(0, EPOCHS), H.history[\"accuracy\"], label=\"train_acc\")\n",
    "plt.plot(np.arange(0, EPOCHS), H.history[\"val_accuracy\"], label=\"val_acc\")\n",
    "\n",
    "plt.title(\"Training Loss and Accuracy\")\n",
    "plt.xlabel(\"Epoch\")\n",
    "plt.ylabel(\"Loss/Accuracy\")\n",
    "plt.legend(loc=\"lower left\")"
   ]
  },
  {
   "cell_type": "markdown",
   "metadata": {},
   "source": [
    "# Save and export model"
   ]
  },
  {
   "cell_type": "code",
   "execution_count": 22,
   "metadata": {},
   "outputs": [],
   "source": [
    "# Save the model\n",
    "\n",
    "MODEL_PATH = \"../models/face_mask_detector.h5\"\n",
    "model.save(MODEL_PATH, save_format=\"h5\")"
   ]
  },
  {
   "cell_type": "code",
   "execution_count": 30,
   "metadata": {},
   "outputs": [
    {
     "name": "stdout",
     "output_type": "stream",
     "text": [
      "Requirement already satisfied: tensorflowjs==2.0.1 in e:\\anaconda\\lib\\site-packages (2.0.1)Note: you may need to restart the kernel to use updated packages.\n",
      "Requirement already satisfied: PyInquirer==1.0.3 in e:\\anaconda\\lib\\site-packages (from tensorflowjs==2.0.1) (1.0.3)\n",
      "Requirement already satisfied: h5py>=2.8.0 in e:\\anaconda\\lib\\site-packages (from tensorflowjs==2.0.1) (2.10.0)\n",
      "Requirement already satisfied: tensorflow-cpu>=2.1.0<3 in e:\\anaconda\\lib\\site-packages (from tensorflowjs==2.0.1) (2.3.0rc2)\n",
      "Requirement already satisfied: numpy>=1.16.4 in e:\\anaconda\\lib\\site-packages (from tensorflowjs==2.0.1) (1.18.5)\n",
      "Requirement already satisfied: six>=1.12.0 in e:\\anaconda\\lib\\site-packages (from tensorflowjs==2.0.1) (1.15.0)\n",
      "\n"
     ]
    },
    {
     "name": "stderr",
     "output_type": "stream",
     "text": [
      "ERROR: -ensorflow 2.1.0 has requirement gast==0.2.2, but you'll have gast 0.3.3 which is incompatible.\n",
      "ERROR: -ensorflow 2.1.0 has requirement tensorboard<2.2.0,>=2.1.0, but you'll have tensorboard 2.2.1 which is incompatible.\n",
      "ERROR: -ensorflow 2.1.0 has requirement tensorflow-estimator<2.2.0,>=2.1.0rc0, but you'll have tensorflow-estimator 2.3.0rc0 which is incompatible.\n",
      "ERROR: tensorflow 2.2.0 has requirement tensorflow-estimator<2.3.0,>=2.2.0, but you'll have tensorflow-estimator 2.3.0rc0 which is incompatible.\n",
      "ERROR: rasa 1.4.3 has requirement gast==0.2.2, but you'll have gast 0.3.3 which is incompatible.\n",
      "ERROR: rasa 1.4.3 has requirement gevent~=1.4, but you'll have gevent 20.6.2 which is incompatible.\n",
      "ERROR: rasa 1.4.3 has requirement jsonschema~=2.6, but you'll have jsonschema 3.2.0 which is incompatible.\n",
      "ERROR: rasa 1.4.3 has requirement networkx~=2.3.0, but you'll have networkx 2.4 which is incompatible.\n",
      "ERROR: rasa 1.4.3 has requirement packaging~=19.0, but you'll have packaging 20.4 which is incompatible.\n",
      "ERROR: rasa 1.4.3 has requirement scikit-learn~=0.20.0, but you'll have scikit-learn 0.23.1 which is incompatible.\n",
      "ERROR: rasa 1.4.3 has requirement scikit-learn~=0.20.2, but you'll have scikit-learn 0.23.1 which is incompatible.\n",
      "ERROR: rasa 1.4.3 has requirement tensorflow~=1.14.0, but you'll have tensorflow 2.2.0 which is incompatible.\n",
      "ERROR: questionary 1.5.2 has requirement prompt-toolkit<4.0,>=2.0, but you'll have prompt-toolkit 1.0.14 which is incompatible.\n",
      "ERROR: jupyter-console 6.1.0 has requirement prompt-toolkit!=3.0.0,!=3.0.1,<3.1.0,>=2.0.0, but you'll have prompt-toolkit 1.0.14 which is incompatible.\n",
      "ERROR: ipython 7.16.1 has requirement prompt-toolkit!=3.0.0,!=3.0.1,<3.1.0,>=2.0.0, but you'll have prompt-toolkit 1.0.14 which is incompatible.\n"
     ]
    },
    {
     "name": "stdout",
     "output_type": "stream",
     "text": [
      "Requirement already satisfied: tensorflow-hub==0.7.0 in e:\\anaconda\\lib\\site-packages (from tensorflowjs==2.0.1) (0.7.0)\n",
      "Collecting prompt-toolkit==1.0.14\n",
      "  Using cached prompt_toolkit-1.0.14-py3-none-any.whl (248 kB)\n",
      "Requirement already satisfied: regex>=2016.11.21 in e:\\anaconda\\lib\\site-packages (from PyInquirer==1.0.3->tensorflowjs==2.0.1) (2020.6.8)\n",
      "Requirement already satisfied: Pygments>=2.2.0 in e:\\anaconda\\lib\\site-packages (from PyInquirer==1.0.3->tensorflowjs==2.0.1) (2.6.1)\n",
      "Requirement already satisfied: tensorflow-estimator<2.4.0,>=2.3.0rc0 in e:\\anaconda\\lib\\site-packages (from tensorflow-cpu>=2.1.0<3->tensorflowjs==2.0.1) (2.3.0rc0)\n",
      "Requirement already satisfied: absl-py>=0.7.0 in e:\\anaconda\\lib\\site-packages (from tensorflow-cpu>=2.1.0<3->tensorflowjs==2.0.1) (0.9.0)\n",
      "Requirement already satisfied: tensorboard<2.3.0,>=2.2.0 in e:\\anaconda\\lib\\site-packages (from tensorflow-cpu>=2.1.0<3->tensorflowjs==2.0.1) (2.2.1)\n",
      "Collecting keras-preprocessing<1.2,>=1.1.1\n",
      "  Using cached Keras_Preprocessing-1.1.2-py2.py3-none-any.whl (42 kB)\n",
      "Requirement already satisfied: opt-einsum>=2.3.2 in e:\\anaconda\\lib\\site-packages (from tensorflow-cpu>=2.1.0<3->tensorflowjs==2.0.1) (3.1.0)\n",
      "Requirement already satisfied: gast==0.3.3 in e:\\anaconda\\lib\\site-packages (from tensorflow-cpu>=2.1.0<3->tensorflowjs==2.0.1) (0.3.3)\n",
      "Requirement already satisfied: protobuf>=3.9.2 in e:\\anaconda\\lib\\site-packages (from tensorflow-cpu>=2.1.0<3->tensorflowjs==2.0.1) (3.11.4)\n",
      "Requirement already satisfied: wrapt>=1.11.1 in e:\\anaconda\\lib\\site-packages (from tensorflow-cpu>=2.1.0<3->tensorflowjs==2.0.1) (1.12.1)\n",
      "Requirement already satisfied: scipy==1.4.1 in e:\\anaconda\\lib\\site-packages (from tensorflow-cpu>=2.1.0<3->tensorflowjs==2.0.1) (1.4.1)\n",
      "Requirement already satisfied: grpcio>=1.8.6 in e:\\anaconda\\lib\\site-packages (from tensorflow-cpu>=2.1.0<3->tensorflowjs==2.0.1) (1.28.1)\n",
      "Requirement already satisfied: termcolor>=1.1.0 in e:\\anaconda\\lib\\site-packages (from tensorflow-cpu>=2.1.0<3->tensorflowjs==2.0.1) (1.1.0)\n",
      "Requirement already satisfied: astunparse==1.6.3 in e:\\anaconda\\lib\\site-packages (from tensorflow-cpu>=2.1.0<3->tensorflowjs==2.0.1) (1.6.3)\n",
      "Requirement already satisfied: wheel>=0.26 in e:\\anaconda\\lib\\site-packages (from tensorflow-cpu>=2.1.0<3->tensorflowjs==2.0.1) (0.34.2)\n",
      "Requirement already satisfied: google-pasta>=0.1.8 in e:\\anaconda\\lib\\site-packages (from tensorflow-cpu>=2.1.0<3->tensorflowjs==2.0.1) (0.2.0)\n",
      "Requirement already satisfied: wcwidth in e:\\anaconda\\lib\\site-packages (from prompt-toolkit==1.0.14->PyInquirer==1.0.3->tensorflowjs==2.0.1) (0.2.5)\n",
      "Requirement already satisfied: tensorboard-plugin-wit>=1.6.0 in e:\\anaconda\\lib\\site-packages (from tensorboard<2.3.0,>=2.2.0->tensorflow-cpu>=2.1.0<3->tensorflowjs==2.0.1) (1.6.0)\n",
      "Requirement already satisfied: setuptools>=41.0.0 in e:\\anaconda\\lib\\site-packages (from tensorboard<2.3.0,>=2.2.0->tensorflow-cpu>=2.1.0<3->tensorflowjs==2.0.1) (49.2.0.post20200714)\n",
      "Requirement already satisfied: werkzeug>=0.11.15 in e:\\anaconda\\lib\\site-packages (from tensorboard<2.3.0,>=2.2.0->tensorflow-cpu>=2.1.0<3->tensorflowjs==2.0.1) (0.16.1)\n",
      "Requirement already satisfied: markdown>=2.6.8 in e:\\anaconda\\lib\\site-packages (from tensorboard<2.3.0,>=2.2.0->tensorflow-cpu>=2.1.0<3->tensorflowjs==2.0.1) (3.2.1)\n",
      "Requirement already satisfied: google-auth<2,>=1.6.3 in e:\\anaconda\\lib\\site-packages (from tensorboard<2.3.0,>=2.2.0->tensorflow-cpu>=2.1.0<3->tensorflowjs==2.0.1) (1.18.0)\n",
      "Requirement already satisfied: google-auth-oauthlib<0.5,>=0.4.1 in e:\\anaconda\\lib\\site-packages (from tensorboard<2.3.0,>=2.2.0->tensorflow-cpu>=2.1.0<3->tensorflowjs==2.0.1) (0.4.1)\n",
      "Requirement already satisfied: requests<3,>=2.21.0 in e:\\anaconda\\lib\\site-packages (from tensorboard<2.3.0,>=2.2.0->tensorflow-cpu>=2.1.0<3->tensorflowjs==2.0.1) (2.24.0)\n",
      "Requirement already satisfied: cachetools<5.0,>=2.0.0 in e:\\anaconda\\lib\\site-packages (from google-auth<2,>=1.6.3->tensorboard<2.3.0,>=2.2.0->tensorflow-cpu>=2.1.0<3->tensorflowjs==2.0.1) (4.1.0)\n",
      "Requirement already satisfied: pyasn1-modules>=0.2.1 in e:\\anaconda\\lib\\site-packages (from google-auth<2,>=1.6.3->tensorboard<2.3.0,>=2.2.0->tensorflow-cpu>=2.1.0<3->tensorflowjs==2.0.1) (0.2.7)\n",
      "Requirement already satisfied: rsa<5,>=3.1.4; python_version >= \"3\" in e:\\anaconda\\lib\\site-packages (from google-auth<2,>=1.6.3->tensorboard<2.3.0,>=2.2.0->tensorflow-cpu>=2.1.0<3->tensorflowjs==2.0.1) (4.0)\n",
      "Requirement already satisfied: requests-oauthlib>=0.7.0 in e:\\anaconda\\lib\\site-packages (from google-auth-oauthlib<0.5,>=0.4.1->tensorboard<2.3.0,>=2.2.0->tensorflow-cpu>=2.1.0<3->tensorflowjs==2.0.1) (1.3.0)\n",
      "Requirement already satisfied: chardet<4,>=3.0.2 in e:\\anaconda\\lib\\site-packages (from requests<3,>=2.21.0->tensorboard<2.3.0,>=2.2.0->tensorflow-cpu>=2.1.0<3->tensorflowjs==2.0.1) (3.0.4)\n",
      "Requirement already satisfied: idna<3,>=2.5 in e:\\anaconda\\lib\\site-packages (from requests<3,>=2.21.0->tensorboard<2.3.0,>=2.2.0->tensorflow-cpu>=2.1.0<3->tensorflowjs==2.0.1) (2.10)\n",
      "Requirement already satisfied: certifi>=2017.4.17 in e:\\anaconda\\lib\\site-packages (from requests<3,>=2.21.0->tensorboard<2.3.0,>=2.2.0->tensorflow-cpu>=2.1.0<3->tensorflowjs==2.0.1) (2020.6.20)\n",
      "Requirement already satisfied: urllib3!=1.25.0,!=1.25.1,<1.26,>=1.21.1 in e:\\anaconda\\lib\\site-packages (from requests<3,>=2.21.0->tensorboard<2.3.0,>=2.2.0->tensorflow-cpu>=2.1.0<3->tensorflowjs==2.0.1) (1.25.9)\n",
      "Requirement already satisfied: pyasn1<0.5.0,>=0.4.6 in e:\\anaconda\\lib\\site-packages (from pyasn1-modules>=0.2.1->google-auth<2,>=1.6.3->tensorboard<2.3.0,>=2.2.0->tensorflow-cpu>=2.1.0<3->tensorflowjs==2.0.1) (0.4.8)\n",
      "Requirement already satisfied: oauthlib>=3.0.0 in e:\\anaconda\\lib\\site-packages (from requests-oauthlib>=0.7.0->google-auth-oauthlib<0.5,>=0.4.1->tensorboard<2.3.0,>=2.2.0->tensorflow-cpu>=2.1.0<3->tensorflowjs==2.0.1) (3.1.0)\n",
      "Installing collected packages: prompt-toolkit, keras-preprocessing\n",
      "  Attempting uninstall: prompt-toolkit\n",
      "    Found existing installation: prompt-toolkit 3.0.5\n",
      "    Uninstalling prompt-toolkit-3.0.5:\n",
      "      Successfully uninstalled prompt-toolkit-3.0.5\n",
      "  Attempting uninstall: keras-preprocessing\n",
      "    Found existing installation: Keras-Preprocessing 1.1.0\n",
      "    Uninstalling Keras-Preprocessing-1.1.0:\n",
      "      Successfully uninstalled Keras-Preprocessing-1.1.0\n",
      "Successfully installed keras-preprocessing-1.1.2 prompt-toolkit-2.0.10\n"
     ]
    }
   ],
   "source": [
    "pip install tensorflowjs==2.0.1"
   ]
  },
  {
   "cell_type": "code",
   "execution_count": null,
   "metadata": {},
   "outputs": [],
   "source": [
    "pip uninstall tensorflow_estimator"
   ]
  },
  {
   "cell_type": "code",
   "execution_count": null,
   "metadata": {},
   "outputs": [],
   "source": [
    "pip install tensorflow_estimator"
   ]
  },
  {
   "cell_type": "code",
   "execution_count": null,
   "metadata": {},
   "outputs": [],
   "source": [
    "# Export into TensorFlow.js\n",
    "\n",
    "import tensorflowjs as tfjs\n",
    "\n",
    "TFJS_MODEL_DIR = \"../models/tfjs\"\n",
    "tfjs.converters.save_keras_model(model, TFJS_MODEL_DIR)"
   ]
  }
 ],
 "metadata": {
  "kernelspec": {
   "display_name": "Python 3",
   "language": "python",
   "name": "python3"
  },
  "language_info": {
   "codemirror_mode": {
    "name": "ipython",
    "version": 3
   },
   "file_extension": ".py",
   "mimetype": "text/x-python",
   "name": "python",
   "nbconvert_exporter": "python",
   "pygments_lexer": "ipython3",
   "version": "3.7.7"
  }
 },
 "nbformat": 4,
 "nbformat_minor": 4
}
